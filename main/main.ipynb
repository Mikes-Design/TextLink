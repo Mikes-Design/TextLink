{
 "cells": [
  {
   "cell_type": "code",
   "execution_count": 3,
   "id": "3a2f608d",
   "metadata": {},
   "outputs": [
    {
     "name": "stdout",
     "output_type": "stream",
     "text": [
      "Collecting textlink\n",
      "  Downloading textlink-0.0.1-py3-none-any.whl.metadata (3.4 kB)\n",
      "Requirement already satisfied: requests in c:\\users\\mikes\\appdata\\local\\programs\\python\\python313\\lib\\site-packages (from textlink) (2.32.3)\n",
      "Requirement already satisfied: charset-normalizer<4,>=2 in c:\\users\\mikes\\appdata\\local\\programs\\python\\python313\\lib\\site-packages (from requests->textlink) (3.4.1)\n",
      "Requirement already satisfied: idna<4,>=2.5 in c:\\users\\mikes\\appdata\\local\\programs\\python\\python313\\lib\\site-packages (from requests->textlink) (3.10)\n",
      "Requirement already satisfied: urllib3<3,>=1.21.1 in c:\\users\\mikes\\appdata\\local\\programs\\python\\python313\\lib\\site-packages (from requests->textlink) (2.3.0)\n",
      "Requirement already satisfied: certifi>=2017.4.17 in c:\\users\\mikes\\appdata\\local\\programs\\python\\python313\\lib\\site-packages (from requests->textlink) (2024.12.14)\n",
      "Downloading textlink-0.0.1-py3-none-any.whl (4.5 kB)\n",
      "Installing collected packages: textlink\n",
      "Successfully installed textlink-0.0.1\n",
      "Note: you may need to restart the kernel to use updated packages.\n"
     ]
    },
    {
     "name": "stderr",
     "output_type": "stream",
     "text": [
      "\n",
      "[notice] A new release of pip is available: 25.1 -> 25.1.1\n",
      "[notice] To update, run: python.exe -m pip install --upgrade pip\n"
     ]
    }
   ],
   "source": [
    "pip install textlink"
   ]
  },
  {
   "cell_type": "code",
   "execution_count": 4,
   "id": "555eb9d5",
   "metadata": {},
   "outputs": [],
   "source": [
    "import textlink as tl"
   ]
  },
  {
   "cell_type": "code",
   "execution_count": null,
   "id": "53552bfa",
   "metadata": {},
   "outputs": [],
   "source": []
  }
 ],
 "metadata": {
  "kernelspec": {
   "display_name": "Python 3",
   "language": "python",
   "name": "python3"
  },
  "language_info": {
   "codemirror_mode": {
    "name": "ipython",
    "version": 3
   },
   "file_extension": ".py",
   "mimetype": "text/x-python",
   "name": "python",
   "nbconvert_exporter": "python",
   "pygments_lexer": "ipython3",
   "version": "3.13.2"
  }
 },
 "nbformat": 4,
 "nbformat_minor": 5
}
